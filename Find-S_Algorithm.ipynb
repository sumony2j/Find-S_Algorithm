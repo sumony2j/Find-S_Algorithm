{
 "cells": [
  {
   "cell_type": "markdown",
   "id": "54bb7e8c",
   "metadata": {},
   "source": [
    "# Implement Find-S Algorithm"
   ]
  },
  {
   "cell_type": "markdown",
   "id": "b107b518",
   "metadata": {},
   "source": [
    "## Load Libraries"
   ]
  },
  {
   "cell_type": "code",
   "execution_count": 1,
   "id": "1d91f701",
   "metadata": {},
   "outputs": [],
   "source": [
    "import pandas as pd"
   ]
  },
  {
   "cell_type": "markdown",
   "id": "91234b8b",
   "metadata": {},
   "source": [
    "## Load Dataset"
   ]
  },
  {
   "cell_type": "code",
   "execution_count": 2,
   "id": "d621d8ae",
   "metadata": {},
   "outputs": [],
   "source": [
    "df = pd.read_csv('./tennis.csv')"
   ]
  },
  {
   "cell_type": "markdown",
   "id": "2969ecbe",
   "metadata": {},
   "source": [
    "## Explore Dataset"
   ]
  },
  {
   "cell_type": "code",
   "execution_count": 3,
   "id": "614e45d7",
   "metadata": {},
   "outputs": [
    {
     "data": {
      "text/html": [
       "<div>\n",
       "<style scoped>\n",
       "    .dataframe tbody tr th:only-of-type {\n",
       "        vertical-align: middle;\n",
       "    }\n",
       "\n",
       "    .dataframe tbody tr th {\n",
       "        vertical-align: top;\n",
       "    }\n",
       "\n",
       "    .dataframe thead th {\n",
       "        text-align: right;\n",
       "    }\n",
       "</style>\n",
       "<table border=\"1\" class=\"dataframe\">\n",
       "  <thead>\n",
       "    <tr style=\"text-align: right;\">\n",
       "      <th></th>\n",
       "      <th>outlook</th>\n",
       "      <th>temp</th>\n",
       "      <th>humidity</th>\n",
       "      <th>windy</th>\n",
       "      <th>play</th>\n",
       "    </tr>\n",
       "  </thead>\n",
       "  <tbody>\n",
       "    <tr>\n",
       "      <th>0</th>\n",
       "      <td>sunny</td>\n",
       "      <td>hot</td>\n",
       "      <td>high</td>\n",
       "      <td>False</td>\n",
       "      <td>no</td>\n",
       "    </tr>\n",
       "    <tr>\n",
       "      <th>1</th>\n",
       "      <td>sunny</td>\n",
       "      <td>hot</td>\n",
       "      <td>high</td>\n",
       "      <td>True</td>\n",
       "      <td>no</td>\n",
       "    </tr>\n",
       "    <tr>\n",
       "      <th>2</th>\n",
       "      <td>overcast</td>\n",
       "      <td>hot</td>\n",
       "      <td>high</td>\n",
       "      <td>False</td>\n",
       "      <td>yes</td>\n",
       "    </tr>\n",
       "    <tr>\n",
       "      <th>3</th>\n",
       "      <td>rainy</td>\n",
       "      <td>mild</td>\n",
       "      <td>high</td>\n",
       "      <td>False</td>\n",
       "      <td>yes</td>\n",
       "    </tr>\n",
       "    <tr>\n",
       "      <th>4</th>\n",
       "      <td>rainy</td>\n",
       "      <td>cool</td>\n",
       "      <td>normal</td>\n",
       "      <td>False</td>\n",
       "      <td>yes</td>\n",
       "    </tr>\n",
       "  </tbody>\n",
       "</table>\n",
       "</div>"
      ],
      "text/plain": [
       "    outlook  temp humidity  windy play\n",
       "0     sunny   hot     high  False   no\n",
       "1     sunny   hot     high   True   no\n",
       "2  overcast   hot     high  False  yes\n",
       "3     rainy  mild     high  False  yes\n",
       "4     rainy  cool   normal  False  yes"
      ]
     },
     "execution_count": 3,
     "metadata": {},
     "output_type": "execute_result"
    }
   ],
   "source": [
    "df.head()"
   ]
  },
  {
   "cell_type": "code",
   "execution_count": 4,
   "id": "24f3db31",
   "metadata": {},
   "outputs": [
    {
     "data": {
      "text/plain": [
       "(14, 5)"
      ]
     },
     "execution_count": 4,
     "metadata": {},
     "output_type": "execute_result"
    }
   ],
   "source": [
    "df.shape"
   ]
  },
  {
   "cell_type": "code",
   "execution_count": 5,
   "id": "f08c9051",
   "metadata": {},
   "outputs": [
    {
     "name": "stdout",
     "output_type": "stream",
     "text": [
      "<class 'pandas.core.frame.DataFrame'>\n",
      "RangeIndex: 14 entries, 0 to 13\n",
      "Data columns (total 5 columns):\n",
      " #   Column    Non-Null Count  Dtype \n",
      "---  ------    --------------  ----- \n",
      " 0   outlook   14 non-null     object\n",
      " 1   temp      14 non-null     object\n",
      " 2   humidity  14 non-null     object\n",
      " 3   windy     14 non-null     bool  \n",
      " 4   play      14 non-null     object\n",
      "dtypes: bool(1), object(4)\n",
      "memory usage: 590.0+ bytes\n"
     ]
    }
   ],
   "source": [
    "df.info()"
   ]
  },
  {
   "cell_type": "code",
   "execution_count": 16,
   "id": "5afae436",
   "metadata": {},
   "outputs": [
    {
     "name": "stdout",
     "output_type": "stream",
     "text": [
      "outlook : ['sunny' 'overcast' 'rainy']\n",
      "temp : ['hot' 'mild' 'cool']\n",
      "humidity : ['high' 'normal']\n",
      "windy : [False  True]\n",
      "play : ['no' 'yes']\n"
     ]
    }
   ],
   "source": [
    "for i in df.columns:\n",
    "    print(f'{i} : {df[i].unique()}')"
   ]
  },
  {
   "cell_type": "markdown",
   "id": "23767a83",
   "metadata": {},
   "source": [
    "## Split Dataset Into Attributes And Target"
   ]
  },
  {
   "cell_type": "code",
   "execution_count": 6,
   "id": "42599ac8",
   "metadata": {},
   "outputs": [],
   "source": [
    "result=df['play'].values"
   ]
  },
  {
   "cell_type": "code",
   "execution_count": 7,
   "id": "0d196435",
   "metadata": {},
   "outputs": [],
   "source": [
    "attributes=df.drop('play',axis=1).values"
   ]
  },
  {
   "cell_type": "markdown",
   "id": "e72a39a6",
   "metadata": {},
   "source": [
    "## Initialization Of Specific Hypothesis"
   ]
  },
  {
   "cell_type": "code",
   "execution_count": 8,
   "id": "81c26992",
   "metadata": {},
   "outputs": [],
   "source": [
    "H=['0']*attributes.shape[1]"
   ]
  },
  {
   "cell_type": "code",
   "execution_count": 9,
   "id": "d78c631e",
   "metadata": {},
   "outputs": [
    {
     "name": "stdout",
     "output_type": "stream",
     "text": [
      "Initial Hypothesis is : ['0', '0', '0', '0']\n"
     ]
    }
   ],
   "source": [
    "print(f'Initial Hypothesis is : {H}')"
   ]
  },
  {
   "cell_type": "markdown",
   "id": "21e63ae6",
   "metadata": {},
   "source": [
    "## Implement The Logic Of Find-S Algorithm"
   ]
  },
  {
   "cell_type": "code",
   "execution_count": 10,
   "id": "0e4bf926",
   "metadata": {},
   "outputs": [
    {
     "name": "stdout",
     "output_type": "stream",
     "text": [
      "For Step-0 : ['0', '0', '0', '0']\n",
      "For Step-1 : ['0', '0', '0', '0']\n",
      "For Step-2 : ['overcast', 'hot', 'high', False]\n",
      "For Step-3 : ['?', '?', 'high', False]\n",
      "For Step-4 : ['?', '?', '?', False]\n",
      "For Step-5 : ['?', '?', '?', False]\n",
      "For Step-6 : ['?', '?', '?', '?']\n",
      "For Step-7 : ['?', '?', '?', '?']\n",
      "For Step-8 : ['?', '?', '?', '?']\n",
      "For Step-9 : ['?', '?', '?', '?']\n",
      "For Step-10 : ['?', '?', '?', '?']\n",
      "For Step-11 : ['?', '?', '?', '?']\n",
      "For Step-12 : ['?', '?', '?', '?']\n",
      "For Step-13 : ['?', '?', '?', '?']\n"
     ]
    }
   ],
   "source": [
    "for i in range(attributes.shape[0]):\n",
    "    if result[i]=='yes':\n",
    "        for j in range(attributes.shape[1]):\n",
    "            if H[j]=='0':\n",
    "                H[j]=attributes[i][j]\n",
    "            elif H[j]!=attributes[i][j]:\n",
    "                H[j]='?'\n",
    "    print(f'For Step-{i} : {H}')\n",
    "    "
   ]
  },
  {
   "cell_type": "markdown",
   "id": "2c95da27",
   "metadata": {},
   "source": [
    "## Final General Hypothesis"
   ]
  },
  {
   "cell_type": "code",
   "execution_count": 11,
   "id": "b4a8dde5",
   "metadata": {},
   "outputs": [
    {
     "name": "stdout",
     "output_type": "stream",
     "text": [
      "Final Hypothesis is : ['?', '?', '?', '?']\n"
     ]
    }
   ],
   "source": [
    "print(f'Final Hypothesis is : {H}')"
   ]
  }
 ],
 "metadata": {
  "kernelspec": {
   "display_name": "Python 3 (ipykernel)",
   "language": "python",
   "name": "python3"
  },
  "language_info": {
   "codemirror_mode": {
    "name": "ipython",
    "version": 3
   },
   "file_extension": ".py",
   "mimetype": "text/x-python",
   "name": "python",
   "nbconvert_exporter": "python",
   "pygments_lexer": "ipython3",
   "version": "3.8.10"
  }
 },
 "nbformat": 4,
 "nbformat_minor": 5
}
